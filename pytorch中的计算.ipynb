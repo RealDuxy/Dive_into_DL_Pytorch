{
 "cells": [
  {
   "cell_type": "markdown",
   "metadata": {},
   "source": [
    "pytorch中的模型实现我们只需要提供forward计算，然后pytorch会自动调用autograd模块来自动生成backward函数计算梯度\n"
   ]
  },
  {
   "cell_type": "markdown",
   "metadata": {},
   "source": [
    "训练模型时，正向传播和反向传播的结果互相依赖    \n",
    "正向传播时，可能会依赖最近一次反向传播计算出的梯度迭代得到的模型参数w    \n",
    "反向传播时，可能依赖正向传播时存储的变量当前值    \n",
    "所以模型正向传播的完毕不能立马释放内存，需要保留计算结果用于反向传播（所以训练相比预测更加耗费内存）\n",
    "此外，每个变量大小与batch_size也有关（需要保留batch_size个）"
   ]
  },
  {
   "cell_type": "code",
   "execution_count": null,
   "metadata": {},
   "outputs": [],
   "source": []
  }
 ],
 "metadata": {
  "kernelspec": {
   "display_name": "pytorch",
   "language": "python",
   "name": "deeplearning"
  },
  "language_info": {
   "codemirror_mode": {
    "name": "ipython",
    "version": 3
   },
   "file_extension": ".py",
   "mimetype": "text/x-python",
   "name": "python",
   "nbconvert_exporter": "python",
   "pygments_lexer": "ipython3",
   "version": "3.6.10"
  }
 },
 "nbformat": 4,
 "nbformat_minor": 4
}
